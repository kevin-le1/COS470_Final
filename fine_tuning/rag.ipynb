{
 "cells": [
  {
   "cell_type": "code",
   "execution_count": 1,
   "metadata": {},
   "outputs": [],
   "source": [
    "# pip installations\n",
    "# !pip install -r requirements.txt"
   ]
  },
  {
   "cell_type": "code",
   "execution_count": 2,
   "metadata": {},
   "outputs": [],
   "source": [
    "# Imports\n",
    "from clean_text import load_texts_from_files\n",
    "from explainable_rag import ExplainableRetriever"
   ]
  },
  {
   "cell_type": "code",
   "execution_count": 3,
   "metadata": {},
   "outputs": [
    {
     "name": "stdout",
     "output_type": "stream",
     "text": [
      "Loading texts from ./data/bitcoin_client_data.jsonl\n",
      "Loading texts from ./data/ed_discussion_fa2023.json\n",
      "Loading texts from ./data/lecture_notes.json\n"
     ]
    },
    {
     "name": "stderr",
     "output_type": "stream",
     "text": [
      "/Users/kevin/Desktop/cos470/COS470_Final/fine_tuning/explainable_rag.py:9: LangChainDeprecationWarning: The class `OpenAIEmbeddings` was deprecated in LangChain 0.0.9 and will be removed in 1.0. An updated version of the class exists in the langchain-openai package and should be used instead. To use it run `pip install -U langchain-openai` and import as `from langchain_openai import OpenAIEmbeddings`.\n",
      "  self.embeddings = OpenAIEmbeddings()\n"
     ]
    },
    {
     "name": "stdout",
     "output_type": "stream",
     "text": [
      "\n",
      "Analyze the following query in the context of the \n",
      "provided blockchain network implementation. Provide \n",
      "a clear explanation of how the context relates to the query. \n",
      "Focus on key concepts such as peer-to-peer communication, \n",
      "blockchain structures (e.g., Merkle trees, blocks, transactions),\n",
      "and their interactions. Conclude the explanation with a summary \n",
      "of the main points.\n",
      "\n"
     ]
    }
   ],
   "source": [
    "# Running explainable_rag\n",
    "\n",
    "# File paths for your JSON and JSONL files\n",
    "json_files = [\"./data/bitcoin_client_data.jsonl\", \"./data/ed_discussion_fa2023.json\", \"./data/lecture_notes.json\"]\n",
    "\n",
    "# Load and extract texts from JSON files\n",
    "texts = load_texts_from_files(json_files)\n",
    "\n",
    "# Converts to string for the retriever to work with the extracted context\n",
    "texts = [str(text) for text in texts]\n",
    "\n",
    "# Initialize the ExplainableRetriever with the extracted texts\n",
    "explainable_retriever = ExplainableRetriever(texts)"
   ]
  },
  {
   "cell_type": "code",
   "execution_count": null,
   "metadata": {},
   "outputs": [
    {
     "name": "stderr",
     "output_type": "stream",
     "text": [
      "/Users/kevin/Desktop/cos470/COS470_Final/fine_tuning/explainable_rag.py:34: LangChainDeprecationWarning: The method `BaseRetriever.get_relevant_documents` was deprecated in langchain-core 0.1.46 and will be removed in 1.0. Use invoke instead.\n",
      "  docs = self.retriever.get_relevant_documents(query)\n"
     ]
    }
   ],
   "source": [
    "# Use the retriever as usual\n",
    "query = \"What is the purpose of this course?\"\n",
    "results = explainable_retriever.retrieve_and_explain(query)\n",
    "\n",
    "# Print the results\n",
    "for result in results:\n",
    "    print(\"Content:\", result[\"content\"])\n",
    "    print(\"Explanation:\", result[\"explanation\"])\n",
    "    print(\"-\" * 80)"
   ]
  }
 ],
 "metadata": {
  "kernelspec": {
   "display_name": "cos429",
   "language": "python",
   "name": "cos429"
  },
  "language_info": {
   "codemirror_mode": {
    "name": "ipython",
    "version": 3
   },
   "file_extension": ".py",
   "mimetype": "text/x-python",
   "name": "python",
   "nbconvert_exporter": "python",
   "pygments_lexer": "ipython3",
   "version": "3.8.18"
  }
 },
 "nbformat": 4,
 "nbformat_minor": 2
}
