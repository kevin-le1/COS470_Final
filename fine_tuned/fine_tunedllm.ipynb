{
 "cells": [
  {
   "cell_type": "code",
   "execution_count": 7,
   "metadata": {},
   "outputs": [],
   "source": [
    "# Imports\n",
    "from openai import OpenAI\n",
    "import os\n",
    "from dotenv import load_dotenv"
   ]
  },
  {
   "cell_type": "code",
   "execution_count": 8,
   "metadata": {},
   "outputs": [
    {
     "data": {
      "text/plain": [
       "FileObject(id='file-YC98Uv5yykjvWA6RmiGNvM', bytes=67184, created_at=1733723468, filename='chat_formatted_data.jsonl', object='file', purpose='fine-tune', status='processed', status_details=None)"
      ]
     },
     "execution_count": 8,
     "metadata": {},
     "output_type": "execute_result"
    }
   ],
   "source": [
    "# load model\n",
    "\n",
    "load_dotenv()\n",
    "\n",
    "# Set the OpenAI API key environment variable\n",
    "os.environ[\"OPENAI_API_KEY\"] = os.getenv('OPENAI_API_KEY')\n",
    "\n",
    "client = OpenAI()\n",
    "\n",
    "# Create fine tuned \n",
    "client.files.create(\n",
    "  file=open(\"chat_formatted_data.jsonl\", \"rb\"),\n",
    "  purpose=\"fine-tune\"\n",
    ")"
   ]
  },
  {
   "cell_type": "code",
   "execution_count": 9,
   "metadata": {},
   "outputs": [
    {
     "name": "stdout",
     "output_type": "stream",
     "text": [
      "SyncCursorPage[FileObject](data=[FileObject(id='file-YC98Uv5yykjvWA6RmiGNvM', bytes=67184, created_at=1733723468, filename='chat_formatted_data.jsonl', object='file', purpose='fine-tune', status='processed', status_details=None), FileObject(id='file-QuU48DQX5es1cfEHp2Q3Wi', bytes=66654, created_at=1733723282, filename='fine_tune.jsonl', object='file', purpose='fine-tune', status='processed', status_details=None), FileObject(id='file-SyRiBHnZfNbiJVmXzsWCTB', bytes=66654, created_at=1733696143, filename='fine_tune.jsonl', object='file', purpose='fine-tune', status='processed', status_details=None), FileObject(id='file-LMAadMqEevUASmhJ7kEGWB', bytes=66654, created_at=1733695514, filename='fine_tune.jsonl', object='file', purpose='fine-tune', status='processed', status_details=None), FileObject(id='file-5PLH2HZmGTRkvmt6BoZhMs', bytes=66654, created_at=1733695199, filename='fine_tune.jsonl', object='file', purpose='fine-tune', status='processed', status_details=None), FileObject(id='file-1yqahdyHKSRSyEgekDkACT', bytes=66654, created_at=1733695148, filename='fine_tune.jsonl', object='file', purpose='fine-tune', status='processed', status_details=None), FileObject(id='file-bfRjuuqLbDup1o3MI8gbwa9E', bytes=608, created_at=1731038053, filename='step_metrics.csv', object='file', purpose='fine-tune-results', status='processed', status_details=None), FileObject(id='file-ez7Pv6QrijMdH9diVAREFYmZ', bytes=1402012, created_at=1731037430, filename='fine_tuning_data.jsonl', object='file', purpose='fine-tune', status='processed', status_details=None), FileObject(id='file-JwBEINKpmt1cT08fxfboqVbX', bytes=1402012, created_at=1731037405, filename='fine_tuning_data.jsonl', object='file', purpose='fine-tune', status='processed', status_details=None), FileObject(id='file-XFGiHhUmpZpVLsEgnJqcyct8', bytes=1402012, created_at=1731037038, filename='fine_tuning_data.jsonl', object='file', purpose='fine-tune', status='processed', status_details=None)], object='list', has_more=False, first_id='file-YC98Uv5yykjvWA6RmiGNvM', last_id='file-XFGiHhUmpZpVLsEgnJqcyct8')\n"
     ]
    }
   ],
   "source": [
    "# Lists file association\n",
    "files = client.files.list()\n",
    "print(files)"
   ]
  },
  {
   "cell_type": "code",
   "execution_count": 24,
   "metadata": {},
   "outputs": [
    {
     "data": {
      "text/plain": [
       "FineTuningJob(id='ftjob-04nty7TBeCMP2iqQLa9gGMWA', created_at=1733723901, error=Error(code=None, message=None, param=None), fine_tuned_model=None, finished_at=None, hyperparameters=Hyperparameters(n_epochs='auto', batch_size='auto', learning_rate_multiplier='auto'), model='gpt-4o-mini-2024-07-18', object='fine_tuning.job', organization_id='org-fmnCYTN2BlNUMJ79AN5dd9v8', result_files=[], seed=1046793384, status='validating_files', trained_tokens=None, training_file='file-YC98Uv5yykjvWA6RmiGNvM', validation_file=None, estimated_finish=None, integrations=[], user_provided_suffix='blockchain-tuned')"
      ]
     },
     "execution_count": 24,
     "metadata": {},
     "output_type": "execute_result"
    }
   ],
   "source": [
    "# Fine tunes based on file\n",
    "client.fine_tuning.jobs.create(\n",
    "  training_file=\"file-YC98Uv5yykjvWA6RmiGNvM\",\n",
    "  model=\"gpt-4o-mini-2024-07-18\",\n",
    "  suffix=\"blockchain-tuned\"\n",
    ")\n",
    "# ftjob-IXFA2BL8Wu3PX6evnFnrJHVe ALREADY generated job"
   ]
  },
  {
   "cell_type": "code",
   "execution_count": null,
   "metadata": {},
   "outputs": [
    {
     "name": "stdout",
     "output_type": "stream",
     "text": [
      "FineTuningJob(id='ftjob-04nty7TBeCMP2iqQLa9gGMWA', created_at=1733723901, error=Error(code=None, message=None, param=None), fine_tuned_model='ft:gpt-4o-mini-2024-07-18:mahsa-bastankhah:blockchain-tuned:AcRAw66O', finished_at=1733724289, hyperparameters=Hyperparameters(n_epochs=10, batch_size=1, learning_rate_multiplier=1.8), model='gpt-4o-mini-2024-07-18', object='fine_tuning.job', organization_id='org-fmnCYTN2BlNUMJ79AN5dd9v8', result_files=['file-QRPiziMaHJvax7SeuQ2QfY'], seed=1046793384, status='succeeded', trained_tokens=130030, training_file='file-YC98Uv5yykjvWA6RmiGNvM', validation_file=None, estimated_finish=None, integrations=[], user_provided_suffix='blockchain-tuned')\n"
     ]
    }
   ],
   "source": [
    "# Check the details of the fine-tuning job\n",
    "job_details = client.fine_tuning.jobs.retrieve(\"ftjob-04nty7TBeCMP2iqQLa9gGMWA\")\n",
    "\n",
    "print(job_details)\n",
    "\n",
    "test = client.fine_tuning.jobs.retrieve(\"ftjob-04nty7TBeCMP2iqQLa9gGMWA\")\n",
    "\n",
    "\n",
    "# client.files.retrieve(file_id='file-YC98Uv5yykjvWA6RmiGNvM')\n",
    "# client.fine_tuning.jobs.list()"
   ]
  },
  {
   "cell_type": "code",
   "execution_count": null,
   "metadata": {},
   "outputs": [
    {
     "name": "stdout",
     "output_type": "stream",
     "text": [
      "ChatCompletion(id='chatcmpl-AcRBg5HDfOde5WjV8ifJo9RPOdPv7', choices=[Choice(finish_reason='stop', index=0, logprobs=None, message=ChatCompletionMessage(content='Hello! How can I assist you today?', refusal=None, role='assistant', audio=None, function_call=None, tool_calls=None))], created=1733724336, model='ft:gpt-4o-mini-2024-07-18:mahsa-bastankhah:blockchain-tuned:AcRAw66O', object='chat.completion', service_tier=None, system_fingerprint='fp_944baebe1a', usage=CompletionUsage(completion_tokens=9, prompt_tokens=19, total_tokens=28, completion_tokens_details=CompletionTokensDetails(accepted_prediction_tokens=0, audio_tokens=0, reasoning_tokens=0, rejected_prediction_tokens=0), prompt_tokens_details=PromptTokensDetails(audio_tokens=0, cached_tokens=0)))\n"
     ]
    }
   ],
   "source": [
    "import openai  # Ensure the OpenAI library is installed and imported\n",
    "\n",
    "temp = os.getenv('OPENAI_API_KEY')\n",
    "# Set your OpenAI API key\n",
    "openai.api_key = temp\n",
    "\n",
    "\n",
    "# Use the fine-tuned model for chat completion\n",
    "completion = openai.chat.completions.create(\n",
    "    model = \"ft:gpt-4o-mini-2024-07-18:mahsa-bastankhah:blockchain-tuned:AcRAw66O\",\n",
    "    messages=[\n",
    "        {\"role\": \"system\", \"content\": \"You are a helpful assistant.\"},\n",
    "        {\"role\": \"user\", \"content\": \"Hello!\"}\n",
    "    ]\n",
    ")\n",
    "\n",
    "# Print the response from the assistant\n",
    "print(completion)\n"
   ]
  },
  {
   "cell_type": "code",
   "execution_count": null,
   "metadata": {},
   "outputs": [],
   "source": [
    "from langchain_openai import ChatOpenAI\n",
    "\n",
    "llm = ChatOpenAI(temperature=0, model_name=\"ft:gpt-4o-mini-2024-07-18:mahsa-bastankhah:blockchain-tuned:AcRAw66O\", max_tokens=2000)"
   ]
  },
  {
   "cell_type": "code",
   "execution_count": 51,
   "metadata": {},
   "outputs": [
    {
     "name": "stderr",
     "output_type": "stream",
     "text": [
      "/var/folders/wv/9lrvdvw14l3f9j39qf4g1syc0000gn/T/ipykernel_87644/2156215121.py:8: LangChainDeprecationWarning: The method `BaseChatModel.__call__` was deprecated in langchain-core 0.1.7 and will be removed in 1.0. Use invoke instead.\n",
      "  response = llm(messages)\n"
     ]
    },
    {
     "name": "stdout",
     "output_type": "stream",
     "text": [
      "Certainly! A smart contract is a self-executing contract with the terms of the agreement directly written into code. It runs on a blockchain, which provides a decentralized and immutable environment. Here’s a breakdown of how smart contracts work:\n",
      "\n",
      "### Key Characteristics\n",
      "\n",
      "1. **Self-Execution**: Once deployed, smart contracts automatically execute when predefined conditions are met, without the need for intermediaries.\n",
      "\n",
      "2. **Immutability**: After deployment, the code cannot be changed, ensuring that the contract terms remain consistent and tamper-proof.\n",
      "\n",
      "3. **Transparency**: The code and transaction history are visible on the blockchain, allowing all parties to verify the contract's terms and execution.\n",
      "\n",
      "4. **Decentralization**: Smart contracts operate on a blockchain network, eliminating the need for a central authority.\n",
      "\n",
      "### How They Work\n",
      "\n",
      "1. **Coding**: Smart contracts are written in programming languages specific to a blockchain platform (e.g., Solidity for Ethereum). The code defines the contract's terms, conditions, and execution logic.\n",
      "\n",
      "2. **Deployment**: The smart contract is deployed to the blockchain, where it is assigned a unique address. This process involves paying a transaction fee in the blockchain's native cryptocurrency.\n",
      "\n",
      "3. **Triggering Events**: Smart contracts monitor the blockchain for events or transactions that meet the specified conditions. These conditions can involve checking balances, verifying signatures, or other criteria.\n",
      "\n",
      "4. **Execution**: When the conditions are met, the smart contract executes the defined actions, such as transferring assets, updating state variables, or calling other contracts.\n",
      "\n",
      "5. **Finalization**: The execution results are recorded on the blockchain, updating the state of the involved parties' accounts and the contract itself.\n",
      "\n",
      "### Example Use Cases\n",
      "\n",
      "- **Token Creation**: Many cryptocurrencies are created as ERC-20 tokens on Ethereum using smart contracts to define supply, transfers, and ownership.\n",
      "- **Decentralized Finance (DeFi)**: Platforms like Uniswap and Aave use smart contracts for automated trading, lending, and borrowing without intermediaries.\n",
      "- **NFTs**: Non-fungible tokens are created and managed through smart contracts that define ownership and metadata.\n",
      "\n",
      "### Limitations and Risks\n",
      "\n",
      "- **Code Vulnerabilities**: Bugs or exploits in the code can lead to financial losses, as seen in incidents like the DAO hack.\n",
      "- **Irreversibility**: Mistakes in contract logic or execution cannot be undone, as transactions on the blockchain are permanent.\n",
      "- **Legal Recognition**: The legal status of smart contracts varies by jurisdiction, and they may not be recognized as enforceable contracts in all cases.\n",
      "\n",
      "In summary, smart contracts automate and enforce agreements on the blockchain, providing efficiency, security, and transparency. However, they also come with risks that require careful coding and auditing.\n"
     ]
    }
   ],
   "source": [
    "from langchain.schema import HumanMessage, SystemMessage\n",
    "\n",
    "messages = [\n",
    "    SystemMessage(content=\"You are a helpful assistant trained on blockchain concepts.\"),\n",
    "    HumanMessage(content=\"Can you explain how a smart contract works?\")\n",
    "] \n",
    "\n",
    "response = llm(messages)\n",
    "print(response.content)"
   ]
  }
 ],
 "metadata": {
  "kernelspec": {
   "display_name": "cos429",
   "language": "python",
   "name": "cos429"
  },
  "language_info": {
   "codemirror_mode": {
    "name": "ipython",
    "version": 3
   },
   "file_extension": ".py",
   "mimetype": "text/x-python",
   "name": "python",
   "nbconvert_exporter": "python",
   "pygments_lexer": "ipython3",
   "version": "3.8.18"
  }
 },
 "nbformat": 4,
 "nbformat_minor": 2
}
